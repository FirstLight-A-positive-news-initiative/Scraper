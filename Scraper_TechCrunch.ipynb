{
 "cells": [
  {
   "cell_type": "code",
   "execution_count": 1,
   "metadata": {},
   "outputs": [],
   "source": [
    "import pandas as pd\n",
    "from selenium import webdriver\n",
    "from selenium.webdriver.support.ui import WebDriverWait\n",
    "from selenium.webdriver.support import expected_conditions as EC\n",
    "from selenium.webdriver.common.by import By\n",
    "from datetime import datetime, timedelta\n",
    "\n",
    "from bs4 import BeautifulSoup \n",
    "import re\n",
    "import urllib.request, urllib.parse, urllib.error"
   ]
  },
  {
   "cell_type": "code",
   "execution_count": 2,
   "metadata": {},
   "outputs": [],
   "source": [
    "driver=webdriver.Chrome(executable_path=\"./chromedriver_win32/chromedriver\")\n",
    "driver.get(\"https://techcrunch.com/\")"
   ]
  },
  {
   "cell_type": "code",
   "execution_count": 3,
   "metadata": {
    "scrolled": false
   },
   "outputs": [],
   "source": [
    "for i in range(3):\n",
    "    wait=WebDriverWait(driver, 100)\n",
    "    load=wait.until(EC.presence_of_element_located((By.XPATH, '//span[contains(@class, \"gradient-text gradient-text--green-gradient\")]')))\n",
    "    load.click()\n",
    "wait=WebDriverWait(driver, 10)\n",
    "load=wait.until(EC.presence_of_element_located((By.XPATH, '//span[contains(@class, \"gradient-text gradient-text--green-gradient\")]')))"
   ]
  },
  {
   "cell_type": "code",
   "execution_count": 4,
   "metadata": {
    "scrolled": true
   },
   "outputs": [
    {
     "name": "stdout",
     "output_type": "stream",
     "text": [
      "120\n"
     ]
    }
   ],
   "source": [
    "titles=driver.find_elements_by_class_name('post-block__title')\n",
    "dates=[]\n",
    "print(len(titles))\n",
    "for i in range(len(titles)):\n",
    "    titles[i]=titles[i].find_element_by_class_name('post-block__title__link').get_attribute('href')"
   ]
  },
  {
   "cell_type": "code",
   "execution_count": 5,
   "metadata": {},
   "outputs": [],
   "source": [
    "news=[]\n",
    "for title in titles:\n",
    "#     Using Selenium\n",
    "    li=[]\n",
    "    driver.get(title)\n",
    "    \n",
    "    wait=WebDriverWait(driver, 20)\n",
    "    load=wait.until(EC.presence_of_element_located((By.XPATH, '//time[contains(@class, \"full-date-time\")]')))\n",
    "    pastdate=datetime.now()-timedelta(hours=2)\n",
    "    utcdiff=datetime.now()-datetime.utcnow()\n",
    "    newsdate=datetime.strptime(driver.find_element_by_class_name('full-date-time').get_attribute('datetime'), '%Y-%m-%dT%H:%M:%S')+utcdiff\n",
    "    \n",
    "    if newsdate<pastdate:\n",
    "        continue\n",
    "    \n",
    "    li.append(driver.find_element_by_class_name('article__title').text)\n",
    "    li.append(title)\n",
    "    \n",
    "    try:\n",
    "        li.append(driver.find_element_by_class_name('article__featured-image').get_attribute('src'))\n",
    "    except:\n",
    "        li.append('')\n",
    "        \n",
    "    content=driver.find_element_by_class_name('article-content').find_elements_by_xpath(\"./*\")\n",
    "    li.append(content[0].text)\n",
    "    s=\"\"\n",
    "    for i in range(1, len(content)):\n",
    "        s=s+content[i].text+'\\n'\n",
    "    li.append(s)\n",
    "    li.append(newsdate)\n",
    "    li.append('Technology')    \n",
    "    \n",
    "    news.append(li)\n",
    "\n",
    "#     Using Bs4\n",
    "#     li=[]\n",
    "#     h=urllib.request.urlopen(title)\n",
    "#     file=h.read()\n",
    "#     soup=BeautifulSoup(file, 'html')\n",
    "#     li.append(soup.find('h1', attrs={'class': 'article__title'}).get_text().replace(u'\\xa0', u' ').strip())\n",
    "#     li.append(title)\n",
    "#     try:\n",
    "#         li.append(soup.find('img', attrs={'class': 'article__featured-image'})['src'])\n",
    "#     except:\n",
    "#         li.append('')\n",
    "#     content=soup.find('div', attrs={'class': 'article-content'}).find_all('p')\n",
    "#     li.append(content[0].get_text().replace(u'\\xa0', u' ').strip())\n",
    "#     d=soup.find('div', attrs={'class': 'article__byline__meta'}).get_text()\n",
    "#     print(li)\n",
    "#     print(d)11\n",
    "#         li.append()\n",
    "#         news.append(li)"
   ]
  },
  {
   "cell_type": "code",
   "execution_count": 6,
   "metadata": {},
   "outputs": [
    {
     "data": {
      "text/html": [
       "<div>\n",
       "<style scoped>\n",
       "    .dataframe tbody tr th:only-of-type {\n",
       "        vertical-align: middle;\n",
       "    }\n",
       "\n",
       "    .dataframe tbody tr th {\n",
       "        vertical-align: top;\n",
       "    }\n",
       "\n",
       "    .dataframe thead th {\n",
       "        text-align: right;\n",
       "    }\n",
       "</style>\n",
       "<table border=\"1\" class=\"dataframe\">\n",
       "  <thead>\n",
       "    <tr style=\"text-align: right;\">\n",
       "      <th></th>\n",
       "      <th>Title</th>\n",
       "      <th>Link</th>\n",
       "      <th>Image Link</th>\n",
       "      <th>Summary</th>\n",
       "      <th>Content</th>\n",
       "      <th>Date</th>\n",
       "      <th>Genre</th>\n",
       "    </tr>\n",
       "  </thead>\n",
       "  <tbody>\n",
       "    <tr>\n",
       "      <th>0</th>\n",
       "      <td>MFS Africa collects $100M to expand its digita...</td>\n",
       "      <td>https://techcrunch.com/2021/11/10/mfs-africa-g...</td>\n",
       "      <td>https://techcrunch.com/wp-content/uploads/2021...</td>\n",
       "      <td>Investor interest in African fintech continues...</td>\n",
       "      <td>The company confirmed to TechCrunch that it ha...</td>\n",
       "      <td>2021-11-10 13:32:03</td>\n",
       "      <td>Technology</td>\n",
       "    </tr>\n",
       "    <tr>\n",
       "      <th>1</th>\n",
       "      <td>Amenitiz wants to upgrade the tech stack of in...</td>\n",
       "      <td>https://techcrunch.com/2021/11/10/amenitiz-wan...</td>\n",
       "      <td>https://techcrunch.com/wp-content/uploads/2021...</td>\n",
       "      <td>Meet Amenitiz, a Barcelona-based startup that ...</td>\n",
       "      <td>The company just raised a $7.5 million (€6.5 m...</td>\n",
       "      <td>2021-11-10 13:30:59</td>\n",
       "      <td>Technology</td>\n",
       "    </tr>\n",
       "    <tr>\n",
       "      <th>2</th>\n",
       "      <td>Kenyan edtech startup Craydel raises $1 millio...</td>\n",
       "      <td>https://techcrunch.com/2021/11/09/kenyan-edtec...</td>\n",
       "      <td>https://techcrunch.com/wp-content/uploads/2021...</td>\n",
       "      <td>Kenyan edtech startup Craydel, a platform for ...</td>\n",
       "      <td>The round was led by Enza Capital, a private v...</td>\n",
       "      <td>2021-11-10 12:30:44</td>\n",
       "      <td>Technology</td>\n",
       "    </tr>\n",
       "  </tbody>\n",
       "</table>\n",
       "</div>"
      ],
      "text/plain": [
       "                                               Title  \\\n",
       "0  MFS Africa collects $100M to expand its digita...   \n",
       "1  Amenitiz wants to upgrade the tech stack of in...   \n",
       "2  Kenyan edtech startup Craydel raises $1 millio...   \n",
       "\n",
       "                                                Link  \\\n",
       "0  https://techcrunch.com/2021/11/10/mfs-africa-g...   \n",
       "1  https://techcrunch.com/2021/11/10/amenitiz-wan...   \n",
       "2  https://techcrunch.com/2021/11/09/kenyan-edtec...   \n",
       "\n",
       "                                          Image Link  \\\n",
       "0  https://techcrunch.com/wp-content/uploads/2021...   \n",
       "1  https://techcrunch.com/wp-content/uploads/2021...   \n",
       "2  https://techcrunch.com/wp-content/uploads/2021...   \n",
       "\n",
       "                                             Summary  \\\n",
       "0  Investor interest in African fintech continues...   \n",
       "1  Meet Amenitiz, a Barcelona-based startup that ...   \n",
       "2  Kenyan edtech startup Craydel, a platform for ...   \n",
       "\n",
       "                                             Content                Date  \\\n",
       "0  The company confirmed to TechCrunch that it ha... 2021-11-10 13:32:03   \n",
       "1  The company just raised a $7.5 million (€6.5 m... 2021-11-10 13:30:59   \n",
       "2  The round was led by Enza Capital, a private v... 2021-11-10 12:30:44   \n",
       "\n",
       "        Genre  \n",
       "0  Technology  \n",
       "1  Technology  \n",
       "2  Technology  "
      ]
     },
     "execution_count": 6,
     "metadata": {},
     "output_type": "execute_result"
    }
   ],
   "source": [
    "df=pd.DataFrame(news, columns=['Title', 'Link', 'Image Link', 'Summary', 'Content', 'Date', 'Genre'])\n",
    "df"
   ]
  },
  {
   "cell_type": "code",
   "execution_count": 7,
   "metadata": {},
   "outputs": [],
   "source": [
    "df.to_csv('techcrunch.csv', encoding='utf-8-sig')"
   ]
  },
  {
   "cell_type": "code",
   "execution_count": 8,
   "metadata": {},
   "outputs": [],
   "source": [
    "driver.close()\n",
    "driver.quit()"
   ]
  },
  {
   "cell_type": "code",
   "execution_count": null,
   "metadata": {},
   "outputs": [],
   "source": []
  }
 ],
 "metadata": {
  "kernelspec": {
   "display_name": "Python 3",
   "language": "python",
   "name": "python3"
  },
  "language_info": {
   "codemirror_mode": {
    "name": "ipython",
    "version": 3
   },
   "file_extension": ".py",
   "mimetype": "text/x-python",
   "name": "python",
   "nbconvert_exporter": "python",
   "pygments_lexer": "ipython3",
   "version": "3.7.3"
  }
 },
 "nbformat": 4,
 "nbformat_minor": 2
}
