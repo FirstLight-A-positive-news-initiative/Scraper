{
 "cells": [
  {
   "cell_type": "code",
   "execution_count": null,
   "metadata": {},
   "outputs": [],
   "source": [
    "import pandas as pd\n",
    "import numpy as np\n",
    "from datetime import datetime, timedelta"
   ]
  },
  {
   "cell_type": "code",
   "execution_count": null,
   "metadata": {},
   "outputs": [],
   "source": [
    "datedata=pd.read_csv(\"./LastRunDate.csv\")\n",
    "datedata"
   ]
  },
  {
   "cell_type": "code",
   "execution_count": null,
   "metadata": {},
   "outputs": [],
   "source": [
    "print(datetime.fromtimestamp(datedata.loc[datedata[\"Scraper and Model\"]==\"techcrunch\", \"Date\"]))\n",
    "print(datetime.fromtimestamp(datedata.loc[datedata[\"Scraper and Model\"]==\"bbc\", \"Date\"]))\n",
    "print(datetime.fromtimestamp(datedata.loc[datedata[\"Scraper and Model\"]==\"cnn\", \"Date\"]))\n",
    "print(datetime.fromtimestamp(datedata.loc[datedata[\"Scraper and Model\"]==\"ndtv\", \"Date\"]))\n",
    "print(datetime.fromtimestamp(datedata.loc[datedata[\"Scraper and Model\"]==\"sports\", \"Date\"]))"
   ]
  },
  {
   "cell_type": "code",
   "execution_count": null,
   "metadata": {},
   "outputs": [],
   "source": [
    "newDate=datetime.now()-timedelta(hours=12)\n",
    "print(newDate)"
   ]
  },
  {
   "cell_type": "code",
   "execution_count": null,
   "metadata": {},
   "outputs": [],
   "source": [
    "datedata.loc[datedata[\"Scraper and Model\"]==\"techcrunch\", \"Date\"] = datetime.timestamp(newDate)\n",
    "datedata.loc[datedata[\"Scraper and Model\"]==\"bbc\", \"Date\"] = datetime.timestamp(newDate)\n",
    "datedata.loc[datedata[\"Scraper and Model\"]==\"cnn\", \"Date\"] = datetime.timestamp(newDate)\n",
    "datedata.loc[datedata[\"Scraper and Model\"]==\"ndtv\", \"Date\"] = datetime.timestamp(newDate)\n",
    "datedata.loc[datedata[\"Scraper and Model\"]==\"sports\", \"Date\"] = datetime.timestamp(newDate)"
   ]
  },
  {
   "cell_type": "code",
   "execution_count": null,
   "metadata": {},
   "outputs": [],
   "source": [
    "print(datetime.fromtimestamp(datedata.loc[datedata[\"Scraper and Model\"]==\"techcrunch\", \"Date\"]))\n",
    "print(datetime.fromtimestamp(datedata.loc[datedata[\"Scraper and Model\"]==\"bbc\", \"Date\"]))\n",
    "print(datetime.fromtimestamp(datedata.loc[datedata[\"Scraper and Model\"]==\"cnn\", \"Date\"]))\n",
    "print(datetime.fromtimestamp(datedata.loc[datedata[\"Scraper and Model\"]==\"ndtv\", \"Date\"]))\n",
    "print(datetime.fromtimestamp(datedata.loc[datedata[\"Scraper and Model\"]==\"sports\", \"Date\"]))"
   ]
  },
  {
   "cell_type": "code",
   "execution_count": null,
   "metadata": {},
   "outputs": [],
   "source": [
    "datedata.to_csv(\"LastRunDate.csv\", index=False)"
   ]
  }
 ],
 "metadata": {
  "interpreter": {
   "hash": "b3ba2566441a7c06988d0923437866b63cedc61552a5af99d1f4fb67d367b25f"
  },
  "kernelspec": {
   "display_name": "Python 3.7.11 64-bit ('base': conda)",
   "language": "python",
   "name": "python3"
  },
  "language_info": {
   "codemirror_mode": {
    "name": "ipython",
    "version": 3
   },
   "file_extension": ".py",
   "mimetype": "text/x-python",
   "name": "python",
   "nbconvert_exporter": "python",
   "pygments_lexer": "ipython3",
   "version": "3.7.11"
  },
  "orig_nbformat": 4
 },
 "nbformat": 4,
 "nbformat_minor": 2
}
