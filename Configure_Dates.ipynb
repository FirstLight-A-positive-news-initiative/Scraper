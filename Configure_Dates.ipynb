{
 "cells": [
  {
   "cell_type": "code",
   "execution_count": 1,
   "metadata": {},
   "outputs": [],
   "source": [
    "import pandas as pd\n",
    "import numpy as np\n",
    "from datetime import datetime, timedelta"
   ]
  },
  {
   "cell_type": "code",
   "execution_count": 2,
   "metadata": {},
   "outputs": [
    {
     "data": {
      "text/html": [
       "<div>\n",
       "<style scoped>\n",
       "    .dataframe tbody tr th:only-of-type {\n",
       "        vertical-align: middle;\n",
       "    }\n",
       "\n",
       "    .dataframe tbody tr th {\n",
       "        vertical-align: top;\n",
       "    }\n",
       "\n",
       "    .dataframe thead th {\n",
       "        text-align: right;\n",
       "    }\n",
       "</style>\n",
       "<table border=\"1\" class=\"dataframe\">\n",
       "  <thead>\n",
       "    <tr style=\"text-align: right;\">\n",
       "      <th></th>\n",
       "      <th>Scraper and Model</th>\n",
       "      <th>Date</th>\n",
       "    </tr>\n",
       "  </thead>\n",
       "  <tbody>\n",
       "    <tr>\n",
       "      <th>0</th>\n",
       "      <td>techcrunch</td>\n",
       "      <td>1.637647e+09</td>\n",
       "    </tr>\n",
       "    <tr>\n",
       "      <th>1</th>\n",
       "      <td>bbc</td>\n",
       "      <td>1.637591e+09</td>\n",
       "    </tr>\n",
       "    <tr>\n",
       "      <th>2</th>\n",
       "      <td>cnn</td>\n",
       "      <td>1.637591e+09</td>\n",
       "    </tr>\n",
       "    <tr>\n",
       "      <th>3</th>\n",
       "      <td>ndtv</td>\n",
       "      <td>1.637591e+09</td>\n",
       "    </tr>\n",
       "  </tbody>\n",
       "</table>\n",
       "</div>"
      ],
      "text/plain": [
       "  Scraper and Model          Date\n",
       "0        techcrunch  1.637647e+09\n",
       "1               bbc  1.637591e+09\n",
       "2               cnn  1.637591e+09\n",
       "3              ndtv  1.637591e+09"
      ]
     },
     "execution_count": 2,
     "metadata": {},
     "output_type": "execute_result"
    }
   ],
   "source": [
    "datedata=pd.read_csv(\"./LastRunDate.csv\")\n",
    "datedata"
   ]
  },
  {
   "cell_type": "code",
   "execution_count": 3,
   "metadata": {},
   "outputs": [
    {
     "name": "stdout",
     "output_type": "stream",
     "text": [
      "2021-11-23 11:30:32\n",
      "2021-11-22 19:55:44\n",
      "2021-11-22 19:55:44\n",
      "2021-11-22 19:55:44\n"
     ]
    }
   ],
   "source": [
    "print(datetime.fromtimestamp(datedata.loc[datedata[\"Scraper and Model\"]==\"techcrunch\", \"Date\"]))\n",
    "print(datetime.fromtimestamp(datedata.loc[datedata[\"Scraper and Model\"]==\"bbc\", \"Date\"]))\n",
    "print(datetime.fromtimestamp(datedata.loc[datedata[\"Scraper and Model\"]==\"cnn\", \"Date\"]))\n",
    "print(datetime.fromtimestamp(datedata.loc[datedata[\"Scraper and Model\"]==\"ndtv\", \"Date\"]))"
   ]
  },
  {
   "cell_type": "code",
   "execution_count": 4,
   "metadata": {},
   "outputs": [
    {
     "name": "stdout",
     "output_type": "stream",
     "text": [
      "2021-11-25 16:30:32.596382\n"
     ]
    }
   ],
   "source": [
    "newDate=datetime.now()-timedelta(hours=24)\n",
    "print(newDate)"
   ]
  },
  {
   "cell_type": "code",
   "execution_count": 5,
   "metadata": {},
   "outputs": [],
   "source": [
    "datedata.loc[datedata[\"Scraper and Model\"]==\"techcrunch\", \"Date\"] = datetime.timestamp(newDate)\n",
    "datedata.loc[datedata[\"Scraper and Model\"]==\"bbc\", \"Date\"] = datetime.timestamp(newDate)\n",
    "datedata.loc[datedata[\"Scraper and Model\"]==\"cnn\", \"Date\"] = datetime.timestamp(newDate)\n",
    "datedata.loc[datedata[\"Scraper and Model\"]==\"ndtv\", \"Date\"] = datetime.timestamp(newDate)"
   ]
  },
  {
   "cell_type": "code",
   "execution_count": 6,
   "metadata": {},
   "outputs": [
    {
     "name": "stdout",
     "output_type": "stream",
     "text": [
      "2021-11-25 16:30:32\n",
      "2021-11-25 16:30:32\n",
      "2021-11-25 16:30:32\n",
      "2021-11-25 16:30:32\n"
     ]
    }
   ],
   "source": [
    "print(datetime.fromtimestamp(datedata.loc[datedata[\"Scraper and Model\"]==\"techcrunch\", \"Date\"]))\n",
    "print(datetime.fromtimestamp(datedata.loc[datedata[\"Scraper and Model\"]==\"bbc\", \"Date\"]))\n",
    "print(datetime.fromtimestamp(datedata.loc[datedata[\"Scraper and Model\"]==\"cnn\", \"Date\"]))\n",
    "print(datetime.fromtimestamp(datedata.loc[datedata[\"Scraper and Model\"]==\"ndtv\", \"Date\"]))"
   ]
  }
 ],
 "metadata": {
  "interpreter": {
   "hash": "b3ba2566441a7c06988d0923437866b63cedc61552a5af99d1f4fb67d367b25f"
  },
  "kernelspec": {
   "display_name": "Python 3.7.11 64-bit ('base': conda)",
   "language": "python",
   "name": "python3"
  },
  "language_info": {
   "codemirror_mode": {
    "name": "ipython",
    "version": 3
   },
   "file_extension": ".py",
   "mimetype": "text/x-python",
   "name": "python",
   "nbconvert_exporter": "python",
   "pygments_lexer": "ipython3",
   "version": "3.7.11"
  },
  "orig_nbformat": 4
 },
 "nbformat": 4,
 "nbformat_minor": 2
}
