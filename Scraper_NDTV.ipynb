{
 "cells": [
  {
   "cell_type": "code",
   "execution_count": 11,
   "metadata": {},
   "outputs": [],
   "source": [
    "from selenium import webdriver\n",
    "from selenium.webdriver.support.ui import WebDriverWait\n",
    "from selenium.webdriver.support import expected_conditions as EC\n",
    "from selenium.webdriver.common.by import By\n",
    "from bs4 import BeautifulSoup\n",
    "import requests\n",
    "import pandas as pd"
   ]
  },
  {
   "cell_type": "code",
   "execution_count": 12,
   "metadata": {},
   "outputs": [],
   "source": [
    "driver = webdriver.Chrome(executable_path = \"/usr/bin/chromedriver\")"
   ]
  },
  {
   "cell_type": "code",
   "execution_count": 13,
   "metadata": {},
   "outputs": [],
   "source": [
    "driver.get(\"https://www.ndtv.com/world-news\")"
   ]
  },
  {
   "cell_type": "code",
   "execution_count": 14,
   "metadata": {},
   "outputs": [],
   "source": [
    "news_items = driver.find_elements_by_class_name(\"news_Itm\")\n",
    "news_ads = driver.find_elements_by_class_name(\"adBg\")\n",
    "\n",
    "news_items = list(set(news_items) ^ set(news_ads))"
   ]
  },
  {
   "cell_type": "code",
   "execution_count": 15,
   "metadata": {},
   "outputs": [
    {
     "data": {
      "text/plain": [
       "15"
      ]
     },
     "execution_count": 15,
     "metadata": {},
     "output_type": "execute_result"
    }
   ],
   "source": [
    "len(news_items)"
   ]
  },
  {
   "cell_type": "code",
   "execution_count": 16,
   "metadata": {},
   "outputs": [],
   "source": [
    "all_news = []"
   ]
  },
  {
   "cell_type": "code",
   "execution_count": 17,
   "metadata": {},
   "outputs": [],
   "source": [
    "for news_item in news_items:\n",
    "    news_item_img = news_item.find_element_by_class_name(\"news_Itm-img\")\n",
    "    news_link = news_item_img.find_element_by_tag_name(\"a\")\n",
    "    \n",
    "    all_news.append(news_link.get_attribute(\"href\"))"
   ]
  },
  {
   "cell_type": "code",
   "execution_count": 18,
   "metadata": {
    "scrolled": true
   },
   "outputs": [],
   "source": [
    "# Using only Selenium\n",
    "# for i in range(len(news_items)):\n",
    "#     try:\n",
    "#         news_items = driver.find_elements_by_class_name(\"news_Itm\")\n",
    "#     #     wait = WebDriverWait(driver, 10)\n",
    "#     #     items = wait.until(EC.presence_of_all_elements_located((By.CLASS_NAME, \"news_Itm\")))\n",
    "#         heading = \"\"\n",
    "#         description = \"\"\n",
    "#         image_link = \"\"\n",
    "#         content = \"\"\n",
    "        \n",
    "#         try:\n",
    "#             news = news_items[i].find_element_by_class_name(\"news_Itm-img\")\n",
    "#             news_link = news.find_element_by_tag_name(\"a\")\n",
    "#             news_link.click()\n",
    "#             heading = (driver.find_element_by_class_name(\"sp-ttl\")).text\n",
    "\n",
    "#             description = (driver.find_element_by_class_name(\"sp-descp\")).text\n",
    "\n",
    "#             image_wrap = driver.find_element_by_class_name(\"ins_instory_dv_cont\")\n",
    "#             image = image_wrap.find_element_by_tag_name(\"img\")\n",
    "#             image_link = image.get_attribute(\"src\")\n",
    "\n",
    "#             news_outerbody = driver.find_element_by_class_name(\"ins_storybody\")\n",
    "#             paragraphs = news_outerbody.find_elements_by_css_selector(\"> p\")\n",
    "#             content = []\n",
    "#             for para in paragraphs:\n",
    "#                 content.append(para.text)\n",
    "\n",
    "#             content = \"\".join(content)\n",
    "\n",
    "#             all_news.append((heading, description, image_link, content))\n",
    "#             print(\"Successfully scraped news_item \", (i + 1))\n",
    "#         except:\n",
    "#             print(\"Panga hogya\")\n",
    "            \n",
    "#     except:\n",
    "#         print(\"Error in news item\", (i + 1))\n",
    "#     driver.back()"
   ]
  },
  {
   "cell_type": "code",
   "execution_count": 19,
   "metadata": {},
   "outputs": [],
   "source": [
    "# Moving to next pages:\n",
    "req = requests.get(\"https://www.ndtv.com/world-news\")\n",
    "soup = BeautifulSoup(req.text, \"html.parser\")\n",
    "\n",
    "pages = soup.find(class_ = \"listng_pagntn clear\")\n",
    "\n",
    "for anchor in pages.findAll(\"a\")[1:10]:\n",
    "    req = requests.get(anchor.attrs[\"href\"])\n",
    "    soup = BeautifulSoup(req.text, \"html.parser\")\n",
    "\n",
    "    news_link_img = soup.find_all(class_ = \"news_Itm-img\")\n",
    "    for news_link_img_itr in news_link_img:\n",
    "        all_news.append(news_link_img_itr.a.attrs[\"href\"])"
   ]
  },
  {
   "cell_type": "code",
   "execution_count": 20,
   "metadata": {},
   "outputs": [
    {
     "data": {
      "text/plain": [
       "140"
      ]
     },
     "execution_count": 20,
     "metadata": {},
     "output_type": "execute_result"
    }
   ],
   "source": [
    "len(all_news)"
   ]
  },
  {
   "cell_type": "code",
   "execution_count": 21,
   "metadata": {},
   "outputs": [],
   "source": [
    "news_gathered = []"
   ]
  },
  {
   "cell_type": "code",
   "execution_count": 24,
   "metadata": {},
   "outputs": [],
   "source": [
    "def gather_news(news_gathered, all_news):\n",
    "    for link in all_news:\n",
    "        req = requests.get(link)\n",
    "        soup = BeautifulSoup(req.text, \"html.parser\")\n",
    "\n",
    "        soup = BeautifulSoup(requests.get(link).text, \"html.parser\")\n",
    "\n",
    "        heading = soup.find(class_ = \"sp-ttl\").text\n",
    "        if(heading is None):\n",
    "            heading = \"\"\n",
    "\n",
    "        description = soup.find(class_ = \"sp-descp\").text\n",
    "        if(description is None):\n",
    "            description = \"\"\n",
    "\n",
    "        img_wrap = soup.find(class_ = \"ins_instory_dv_cont\")\n",
    "        if(img_wrap.img is None):\n",
    "            image_link = \"\"\n",
    "        else:\n",
    "            image_link = img_wrap.img.attrs[\"src\"]    \n",
    "\n",
    "        news_outerbody = soup.find(class_ = \"ins_storybody\")\n",
    "        content = \"\"\n",
    "        if(news_outerbody is None):\n",
    "            content = \"\"\n",
    "        else:\n",
    "            paragraphs = news_outerbody.find_all(\"p\")    \n",
    "\n",
    "            content = []\n",
    "            for para in paragraphs:\n",
    "                content.append(para.text)\n",
    "\n",
    "            content = \"\".join(content)\n",
    "\n",
    "        news_gathered.append(\n",
    "            {\n",
    "                \"heading\": heading,\n",
    "                \"description\": description,\n",
    "                \"image_url\": image_link,\n",
    "                \"content\": content,\n",
    "                \"link\": link\n",
    "            }\n",
    "        )"
   ]
  },
  {
   "cell_type": "code",
   "execution_count": 25,
   "metadata": {},
   "outputs": [],
   "source": [
    "gather_news(news_gathered, all_news)"
   ]
  },
  {
   "cell_type": "code",
   "execution_count": 26,
   "metadata": {},
   "outputs": [],
   "source": [
    "data = pd.DataFrame(news_gathered)"
   ]
  },
  {
   "cell_type": "code",
   "execution_count": 27,
   "metadata": {},
   "outputs": [
    {
     "data": {
      "text/html": [
       "<div>\n",
       "<style scoped>\n",
       "    .dataframe tbody tr th:only-of-type {\n",
       "        vertical-align: middle;\n",
       "    }\n",
       "\n",
       "    .dataframe tbody tr th {\n",
       "        vertical-align: top;\n",
       "    }\n",
       "\n",
       "    .dataframe thead th {\n",
       "        text-align: right;\n",
       "    }\n",
       "</style>\n",
       "<table border=\"1\" class=\"dataframe\">\n",
       "  <thead>\n",
       "    <tr style=\"text-align: right;\">\n",
       "      <th></th>\n",
       "      <th>heading</th>\n",
       "      <th>description</th>\n",
       "      <th>image_url</th>\n",
       "      <th>content</th>\n",
       "      <th>link</th>\n",
       "    </tr>\n",
       "  </thead>\n",
       "  <tbody>\n",
       "    <tr>\n",
       "      <th>0</th>\n",
       "      <td>Vietnam Approves Cuba's Abdala Vaccine Amid I...</td>\n",
       "      <td>Abdala becomes the eighth COVID-19 vaccine ap...</td>\n",
       "      <td>https://c.ndtvimg.com/2021-09/fm7kuvo_abdala-v...</td>\n",
       "      <td>Only 6.3% of Vietnam's 98 million people have ...</td>\n",
       "      <td>https://www.ndtv.com/world-news/vietnam-approv...</td>\n",
       "    </tr>\n",
       "    <tr>\n",
       "      <th>1</th>\n",
       "      <td>Afghanistan's Humanitarian Situation \"Pretty ...</td>\n",
       "      <td>More than 3.5 million have been displaced fro...</td>\n",
       "      <td>https://c.ndtvimg.com/2021-09/n7drh0os_afghani...</td>\n",
       "      <td>More than 3.5 million have been displaced from...</td>\n",
       "      <td>https://www.ndtv.com/world-news/afghanistans-h...</td>\n",
       "    </tr>\n",
       "    <tr>\n",
       "      <th>2</th>\n",
       "      <td>Watch: Ukulele Performance On Board SpaceX's ...</td>\n",
       "      <td>Chris Sembroski, an US Air Force veteran, str...</td>\n",
       "      <td>https://c.ndtvimg.com/2021-09/kjjbco6o_spacex-...</td>\n",
       "      <td>SpaceX: Inspiration4 blasted off on Wednesday ...</td>\n",
       "      <td>https://www.ndtv.com/world-news/ukulele-perfor...</td>\n",
       "    </tr>\n",
       "    <tr>\n",
       "      <th>3</th>\n",
       "      <td>Australia Anti-Lockdown Protesters Pepper-Spr...</td>\n",
       "      <td>Australia anti-lockdown protest: Officers use...</td>\n",
       "      <td>https://c.ndtvimg.com/2021-09/r17n54u4_austral...</td>\n",
       "      <td>Australia Protest: Police said 6 officers were...</td>\n",
       "      <td>https://www.ndtv.com/world-news/australia-anti...</td>\n",
       "    </tr>\n",
       "    <tr>\n",
       "      <th>4</th>\n",
       "      <td>100 World Leaders In US Next Week For UN Even...</td>\n",
       "      <td>The UN General Assembly will look to build mo...</td>\n",
       "      <td>https://c.ndtvimg.com/2019-10/cc65avv_un-gener...</td>\n",
       "      <td>US President Joe Biden will address the UN Gen...</td>\n",
       "      <td>https://www.ndtv.com/world-news/world-leaders-...</td>\n",
       "    </tr>\n",
       "    <tr>\n",
       "      <th>...</th>\n",
       "      <td>...</td>\n",
       "      <td>...</td>\n",
       "      <td>...</td>\n",
       "      <td>...</td>\n",
       "      <td>...</td>\n",
       "    </tr>\n",
       "    <tr>\n",
       "      <th>135</th>\n",
       "      <td>Facebook Exempts VIPs From Some Of Its Rules:...</td>\n",
       "      <td>The article cites examples of posts from high...</td>\n",
       "      <td>https://c.ndtvimg.com/2020-08/0psfrbvg_faceboo...</td>\n",
       "      <td>Facebook spokesman Andy Stone, in a series of ...</td>\n",
       "      <td>https://www.ndtv.com/world-news/facebook-exemp...</td>\n",
       "    </tr>\n",
       "    <tr>\n",
       "      <th>136</th>\n",
       "      <td>Joe Biden To Speak At UN General Assembly On ...</td>\n",
       "      <td>Joe Biden, weakened after a chaotic US milita...</td>\n",
       "      <td>https://c.ndtvimg.com/2021-09/1l3kh3d8_joe-bid...</td>\n",
       "      <td>Earlier Monday, the White House announced Joe ...</td>\n",
       "      <td>https://www.ndtv.com/world-news/us-president-j...</td>\n",
       "    </tr>\n",
       "    <tr>\n",
       "      <th>137</th>\n",
       "      <td>Pak Involved In \"Harbouring Members Of Taliba...</td>\n",
       "      <td>Antony Blinken told the US House of Represent...</td>\n",
       "      <td>https://c.ndtvimg.com/2021-09/fo4ievhg_antony-...</td>\n",
       "      <td>Pakistan has had deep ties with Taliban and ha...</td>\n",
       "      <td>https://www.ndtv.com/world-news/afghanistan-cr...</td>\n",
       "    </tr>\n",
       "    <tr>\n",
       "      <th>138</th>\n",
       "      <td>England To Offer Covid Vaccines For 12-15 Age...</td>\n",
       "      <td>The US, Israel and some European countries ha...</td>\n",
       "      <td>https://c.ndtvimg.com/2021-06/r6e5kmv8_vaccine...</td>\n",
       "      <td>COVID-19: Vulnerable children in the age brack...</td>\n",
       "      <td>https://www.ndtv.com/world-news/covid-19-engla...</td>\n",
       "    </tr>\n",
       "    <tr>\n",
       "      <th>139</th>\n",
       "      <td>Fully Vaccinated People Account For Only 1% O...</td>\n",
       "      <td>COVID-19 deaths: This shows effectiveness of ...</td>\n",
       "      <td>https://c.ndtvimg.com/2021-02/h82nhspk_uk-covi...</td>\n",
       "      <td>Among those who died after two doses, 13% were...</td>\n",
       "      <td>https://www.ndtv.com/world-news/coronavirus-fu...</td>\n",
       "    </tr>\n",
       "  </tbody>\n",
       "</table>\n",
       "<p>140 rows × 5 columns</p>\n",
       "</div>"
      ],
      "text/plain": [
       "                                               heading  \\\n",
       "0     Vietnam Approves Cuba's Abdala Vaccine Amid I...   \n",
       "1     Afghanistan's Humanitarian Situation \"Pretty ...   \n",
       "2     Watch: Ukulele Performance On Board SpaceX's ...   \n",
       "3     Australia Anti-Lockdown Protesters Pepper-Spr...   \n",
       "4     100 World Leaders In US Next Week For UN Even...   \n",
       "..                                                 ...   \n",
       "135   Facebook Exempts VIPs From Some Of Its Rules:...   \n",
       "136   Joe Biden To Speak At UN General Assembly On ...   \n",
       "137   Pak Involved In \"Harbouring Members Of Taliba...   \n",
       "138   England To Offer Covid Vaccines For 12-15 Age...   \n",
       "139   Fully Vaccinated People Account For Only 1% O...   \n",
       "\n",
       "                                           description  \\\n",
       "0     Abdala becomes the eighth COVID-19 vaccine ap...   \n",
       "1     More than 3.5 million have been displaced fro...   \n",
       "2     Chris Sembroski, an US Air Force veteran, str...   \n",
       "3     Australia anti-lockdown protest: Officers use...   \n",
       "4     The UN General Assembly will look to build mo...   \n",
       "..                                                 ...   \n",
       "135   The article cites examples of posts from high...   \n",
       "136   Joe Biden, weakened after a chaotic US milita...   \n",
       "137   Antony Blinken told the US House of Represent...   \n",
       "138   The US, Israel and some European countries ha...   \n",
       "139   COVID-19 deaths: This shows effectiveness of ...   \n",
       "\n",
       "                                             image_url  \\\n",
       "0    https://c.ndtvimg.com/2021-09/fm7kuvo_abdala-v...   \n",
       "1    https://c.ndtvimg.com/2021-09/n7drh0os_afghani...   \n",
       "2    https://c.ndtvimg.com/2021-09/kjjbco6o_spacex-...   \n",
       "3    https://c.ndtvimg.com/2021-09/r17n54u4_austral...   \n",
       "4    https://c.ndtvimg.com/2019-10/cc65avv_un-gener...   \n",
       "..                                                 ...   \n",
       "135  https://c.ndtvimg.com/2020-08/0psfrbvg_faceboo...   \n",
       "136  https://c.ndtvimg.com/2021-09/1l3kh3d8_joe-bid...   \n",
       "137  https://c.ndtvimg.com/2021-09/fo4ievhg_antony-...   \n",
       "138  https://c.ndtvimg.com/2021-06/r6e5kmv8_vaccine...   \n",
       "139  https://c.ndtvimg.com/2021-02/h82nhspk_uk-covi...   \n",
       "\n",
       "                                               content  \\\n",
       "0    Only 6.3% of Vietnam's 98 million people have ...   \n",
       "1    More than 3.5 million have been displaced from...   \n",
       "2    SpaceX: Inspiration4 blasted off on Wednesday ...   \n",
       "3    Australia Protest: Police said 6 officers were...   \n",
       "4    US President Joe Biden will address the UN Gen...   \n",
       "..                                                 ...   \n",
       "135  Facebook spokesman Andy Stone, in a series of ...   \n",
       "136  Earlier Monday, the White House announced Joe ...   \n",
       "137  Pakistan has had deep ties with Taliban and ha...   \n",
       "138  COVID-19: Vulnerable children in the age brack...   \n",
       "139  Among those who died after two doses, 13% were...   \n",
       "\n",
       "                                                  link  \n",
       "0    https://www.ndtv.com/world-news/vietnam-approv...  \n",
       "1    https://www.ndtv.com/world-news/afghanistans-h...  \n",
       "2    https://www.ndtv.com/world-news/ukulele-perfor...  \n",
       "3    https://www.ndtv.com/world-news/australia-anti...  \n",
       "4    https://www.ndtv.com/world-news/world-leaders-...  \n",
       "..                                                 ...  \n",
       "135  https://www.ndtv.com/world-news/facebook-exemp...  \n",
       "136  https://www.ndtv.com/world-news/us-president-j...  \n",
       "137  https://www.ndtv.com/world-news/afghanistan-cr...  \n",
       "138  https://www.ndtv.com/world-news/covid-19-engla...  \n",
       "139  https://www.ndtv.com/world-news/coronavirus-fu...  \n",
       "\n",
       "[140 rows x 5 columns]"
      ]
     },
     "execution_count": 27,
     "metadata": {},
     "output_type": "execute_result"
    }
   ],
   "source": [
    "data"
   ]
  },
  {
   "cell_type": "code",
   "execution_count": 68,
   "metadata": {},
   "outputs": [],
   "source": [
    "data.to_csv(\"ndtv_world_18_sept\")"
   ]
  },
  {
   "cell_type": "code",
   "execution_count": 47,
   "metadata": {},
   "outputs": [],
   "source": []
  },
  {
   "cell_type": "code",
   "execution_count": null,
   "metadata": {},
   "outputs": [],
   "source": []
  },
  {
   "cell_type": "code",
   "execution_count": 69,
   "metadata": {},
   "outputs": [],
   "source": [
    "driver.close()"
   ]
  },
  {
   "cell_type": "code",
   "execution_count": 1,
   "metadata": {},
   "outputs": [],
   "source": [
    "import pandas as pd"
   ]
  },
  {
   "cell_type": "code",
   "execution_count": 2,
   "metadata": {},
   "outputs": [],
   "source": [
    "data_india = pd.read_csv(\"ndtv_india_18_sept.csv\")\n",
    "data_world = pd.read_csv(\"ndtv_world_18_sept.csv\")"
   ]
  },
  {
   "cell_type": "code",
   "execution_count": 3,
   "metadata": {},
   "outputs": [
    {
     "data": {
      "text/html": [
       "<div>\n",
       "<style scoped>\n",
       "    .dataframe tbody tr th:only-of-type {\n",
       "        vertical-align: middle;\n",
       "    }\n",
       "\n",
       "    .dataframe tbody tr th {\n",
       "        vertical-align: top;\n",
       "    }\n",
       "\n",
       "    .dataframe thead th {\n",
       "        text-align: right;\n",
       "    }\n",
       "</style>\n",
       "<table border=\"1\" class=\"dataframe\">\n",
       "  <thead>\n",
       "    <tr style=\"text-align: right;\">\n",
       "      <th></th>\n",
       "      <th>Unnamed: 0</th>\n",
       "      <th>heading</th>\n",
       "      <th>description</th>\n",
       "      <th>image_url</th>\n",
       "      <th>content</th>\n",
       "      <th>link</th>\n",
       "    </tr>\n",
       "  </thead>\n",
       "  <tbody>\n",
       "    <tr>\n",
       "      <th>0</th>\n",
       "      <td>0</td>\n",
       "      <td>Rahul Gandhi's Solution To \"Punjabi Gordian K...</td>\n",
       "      <td>\"Kudos to Rahul Gandhi for adopting Alexandri...</td>\n",
       "      <td>https://c.ndtvimg.com/2021-08/k58t2oog_rahul-g...</td>\n",
       "      <td>The Congress is working on solving a crisis in...</td>\n",
       "      <td>https://www.ndtv.com/india-news/rahul-gandhis-...</td>\n",
       "    </tr>\n",
       "    <tr>\n",
       "      <th>1</th>\n",
       "      <td>1</td>\n",
       "      <td>J&amp;K Spending More Than Other States To Nurtur...</td>\n",
       "      <td>Lt Governor Manoj Sinha said the budget of Ja...</td>\n",
       "      <td>https://c.ndtvimg.com/2021-09/ikfarmms_manoj-s...</td>\n",
       "      <td>Manoj Sinha's comments came at the golden jubi...</td>\n",
       "      <td>https://www.ndtv.com/india-news/jammu-and-kash...</td>\n",
       "    </tr>\n",
       "    <tr>\n",
       "      <th>2</th>\n",
       "      <td>2</td>\n",
       "      <td>PM Modi Says \"A Political Party Got Fever\" Se...</td>\n",
       "      <td>COVID-19 Vaccine India: \"People speak of feve...</td>\n",
       "      <td>https://c.ndtvimg.com/2021-09/bjm84p28_narendr...</td>\n",
       "      <td>PM Modi said it was an \"emotional moment\" for ...</td>\n",
       "      <td>https://www.ndtv.com/india-news/pm-narendra-mo...</td>\n",
       "    </tr>\n",
       "    <tr>\n",
       "      <th>3</th>\n",
       "      <td>3</td>\n",
       "      <td>BJP To Hold 2-day Scheduled Caste Wings Meeti...</td>\n",
       "      <td>The programme will be inaugurated by BJP pres...</td>\n",
       "      <td>https://i.ndtvimg.com/i/2018-03/bjp-flag-gener...</td>\n",
       "      <td>As many as 150 people are expected to be prese...</td>\n",
       "      <td>https://www.ndtv.com/india-news/bjp-to-hold-tw...</td>\n",
       "    </tr>\n",
       "    <tr>\n",
       "      <th>4</th>\n",
       "      <td>4</td>\n",
       "      <td>Man Held In Mumbai With Links To Terror Modul...</td>\n",
       "      <td>The Delhi Police's Special Cell had on Tuesda...</td>\n",
       "      <td>https://i.ndtvimg.com/i/2016-04/arrest-generic...</td>\n",
       "      <td>The man was apprehended by Maharashtra ATS in ...</td>\n",
       "      <td>https://www.ndtv.com/india-news/man-held-in-mu...</td>\n",
       "    </tr>\n",
       "  </tbody>\n",
       "</table>\n",
       "</div>"
      ],
      "text/plain": [
       "   Unnamed: 0                                            heading  \\\n",
       "0           0   Rahul Gandhi's Solution To \"Punjabi Gordian K...   \n",
       "1           1   J&K Spending More Than Other States To Nurtur...   \n",
       "2           2   PM Modi Says \"A Political Party Got Fever\" Se...   \n",
       "3           3   BJP To Hold 2-day Scheduled Caste Wings Meeti...   \n",
       "4           4   Man Held In Mumbai With Links To Terror Modul...   \n",
       "\n",
       "                                         description  \\\n",
       "0   \"Kudos to Rahul Gandhi for adopting Alexandri...   \n",
       "1   Lt Governor Manoj Sinha said the budget of Ja...   \n",
       "2   COVID-19 Vaccine India: \"People speak of feve...   \n",
       "3   The programme will be inaugurated by BJP pres...   \n",
       "4   The Delhi Police's Special Cell had on Tuesda...   \n",
       "\n",
       "                                           image_url  \\\n",
       "0  https://c.ndtvimg.com/2021-08/k58t2oog_rahul-g...   \n",
       "1  https://c.ndtvimg.com/2021-09/ikfarmms_manoj-s...   \n",
       "2  https://c.ndtvimg.com/2021-09/bjm84p28_narendr...   \n",
       "3  https://i.ndtvimg.com/i/2018-03/bjp-flag-gener...   \n",
       "4  https://i.ndtvimg.com/i/2016-04/arrest-generic...   \n",
       "\n",
       "                                             content  \\\n",
       "0  The Congress is working on solving a crisis in...   \n",
       "1  Manoj Sinha's comments came at the golden jubi...   \n",
       "2  PM Modi said it was an \"emotional moment\" for ...   \n",
       "3  As many as 150 people are expected to be prese...   \n",
       "4  The man was apprehended by Maharashtra ATS in ...   \n",
       "\n",
       "                                                link  \n",
       "0  https://www.ndtv.com/india-news/rahul-gandhis-...  \n",
       "1  https://www.ndtv.com/india-news/jammu-and-kash...  \n",
       "2  https://www.ndtv.com/india-news/pm-narendra-mo...  \n",
       "3  https://www.ndtv.com/india-news/bjp-to-hold-tw...  \n",
       "4  https://www.ndtv.com/india-news/man-held-in-mu...  "
      ]
     },
     "execution_count": 3,
     "metadata": {},
     "output_type": "execute_result"
    }
   ],
   "source": [
    "data_india.head()"
   ]
  },
  {
   "cell_type": "code",
   "execution_count": 4,
   "metadata": {},
   "outputs": [],
   "source": [
    "data_india.drop([\"image_url\"], axis = 1, inplace = True)"
   ]
  },
  {
   "cell_type": "code",
   "execution_count": 6,
   "metadata": {},
   "outputs": [],
   "source": [
    "data_world.drop([\"image_url\"], axis = 1, inplace = True)"
   ]
  },
  {
   "cell_type": "code",
   "execution_count": 8,
   "metadata": {},
   "outputs": [],
   "source": [
    "data_india.to_csv(\"india.csv\")\n",
    "data_world.to_csv(\"world.csv\")"
   ]
  },
  {
   "cell_type": "code",
   "execution_count": null,
   "metadata": {},
   "outputs": [],
   "source": []
  }
 ],
 "metadata": {
  "kernelspec": {
   "display_name": "Python 3",
   "language": "python",
   "name": "python3"
  },
  "language_info": {
   "codemirror_mode": {
    "name": "ipython",
    "version": 3
   },
   "file_extension": ".py",
   "mimetype": "text/x-python",
   "name": "python",
   "nbconvert_exporter": "python",
   "pygments_lexer": "ipython3",
   "version": "3.8.10"
  }
 },
 "nbformat": 4,
 "nbformat_minor": 4
}
