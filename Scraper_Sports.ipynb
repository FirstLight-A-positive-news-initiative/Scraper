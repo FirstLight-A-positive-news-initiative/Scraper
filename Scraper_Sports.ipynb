{
 "cells": [
  {
   "cell_type": "code",
   "execution_count": 18,
   "id": "365ef7cd",
   "metadata": {},
   "outputs": [],
   "source": [
    "import requests\n",
    "from bs4 import BeautifulSoup\n",
    "from datetime import datetime\n",
    "import pandas as pd\n",
    "\n",
    "# #BERT\n",
    "# #Positivity Score\n",
    "# from transformers import pipeline\n",
    "# # Allocate a pipeline for sentiment-analysis\n",
    "# classifier = pipeline('sentiment-analysis')\n",
    "\n",
    "# #Summary\n",
    "# import torch\n",
    "# from transformers import T5Tokenizer, T5ForConditionalGeneration, T5Config\n",
    "# model = T5ForConditionalGeneration.from_pretrained('t5-small')\n",
    "# tokenizer = T5Tokenizer.from_pretrained('t5-small')\n",
    "# device = torch.device('cpu')\n",
    "\n",
    "# #Capitalize the Sentences\n",
    "# import textwrap\n",
    "# import nltk.data\n",
    "# sent_tokenizer = nltk.data.load('tokenizers/punkt/english.pickle')\n",
    "\n",
    "# import pymongo\n",
    "# from pymongo import MongoClient\n",
    "# import ssl"
   ]
  },
  {
   "cell_type": "code",
   "execution_count": 19,
   "id": "7e629699",
   "metadata": {},
   "outputs": [],
   "source": [
    "last_run_date = datetime.strptime(\"February 7, 2022 00:00 AM\", \"%B %d, %Y %H:%M %p\")"
   ]
  },
  {
   "cell_type": "code",
   "execution_count": 20,
   "id": "d421440e",
   "metadata": {},
   "outputs": [],
   "source": [
    "def convert_date(date_string):\n",
    "    # February 7, 2022 10:07 AM\n",
    "    \n",
    "    datetime_object = datetime.strptime(date_string, \"%B %d, %Y %H:%M %p\")\n",
    "    return (datetime_object)"
   ]
  },
  {
   "cell_type": "code",
   "execution_count": 21,
   "id": "878cd6e6",
   "metadata": {},
   "outputs": [],
   "source": [
    "def collect_links(page):\n",
    "    stop = False\n",
    "    req = requests.get(\"https://www.india.com/sports/page/{}\".format(page))\n",
    "    if(req.status_code == 200):\n",
    "        soup = BeautifulSoup(req.text, \"html.parser\")\n",
    "        try:\n",
    "            section = soup.find(class_ = \"listing-cities-news\")\n",
    "            news_items = section.findAll(class_ = \"catPgListitem\")\n",
    "            news_links = []\n",
    "            for item in news_items:\n",
    "                try:\n",
    "                    formatted_date = convert_date(item.find(class_ = \"byline\").text.split(\"\\n\")[2].strip()[:-4])\n",
    "                    if(formatted_date < last_run_date):\n",
    "                        stop = True\n",
    "                        break\n",
    "                    news_links.append(item.find(\"a\").attrs[\"href\"])\n",
    "                except:\n",
    "                    continue\n",
    "            return news_links, stop\n",
    "        except:\n",
    "            print(\"Page Error.\")"
   ]
  },
  {
   "cell_type": "code",
   "execution_count": 22,
   "id": "8ba5e543",
   "metadata": {},
   "outputs": [],
   "source": [
    "def update_last_run_date(lastdate):\n",
    "    datedata=pd.read_csv(\"./LastRunDate.csv\")\n",
    "    datedata.loc[datedata[\"Scraper and Model\"]==\"sports\", \"Date\"]=datetime.timestamp(lastdate)\n",
    "    datedata.to_csv(\"LastRunDate.csv\", index=False)"
   ]
  },
  {
   "cell_type": "code",
   "execution_count": 23,
   "id": "95e3110e",
   "metadata": {},
   "outputs": [],
   "source": [
    "def gather_news(news_links):\n",
    "    news_gathered = []\n",
    "    for news_link in news_links:\n",
    "        req = requests.get(news_link)\n",
    "        soup = BeautifulSoup(req.text, \"html.parser\")\n",
    "\n",
    "        try:\n",
    "            article = soup.find(class_ = \"article-page\")\n",
    "            heading = article.find(\"h1\").text\n",
    "            date = convert_date(article.find(class_ = \"authors-m\").find(\"aside\").text.split(\": \")[1].strip()[:-4])\n",
    "            image_wrapper = article.find(class_ = \"content-wrap\").figure.div.img\n",
    "            image_link = image_wrapper.attrs[\"data-lazy-src\"]\n",
    "            content_body = article.find(class_ = \"articleBody\")\n",
    "            paragraphs = content_body.findAll(\"p\")\n",
    "            content = \"\"\n",
    "            for para in paragraphs:\n",
    "                content += para.text.split(\"Also Read\")[0]\n",
    "\n",
    "            news_gathered.append(\n",
    "                    {\n",
    "                        \"title\": heading,\n",
    "                        \"link\": news_link,\n",
    "                        \"image_link\": image_link,\n",
    "                        \"summary\": content,\n",
    "                        \"positivity_score\": 0,\n",
    "                        \"date\": date,\n",
    "                        \"genre\": \"sports\"\n",
    "                    }\n",
    "                )\n",
    "        except:\n",
    "            continue\n",
    "    return news_gathered"
   ]
  },
  {
   "cell_type": "code",
   "execution_count": 24,
   "id": "1f19971b",
   "metadata": {},
   "outputs": [],
   "source": [
    "datedata=pd.read_csv(\"./LastRunDate.csv\")\n",
    "pastdate=datetime.fromtimestamp(datedata.loc[datedata[\"Scraper and Model\"] == \"sports\", \"Date\"].values[0])\n",
    "lastdate=pastdate"
   ]
  },
  {
   "cell_type": "code",
   "execution_count": 25,
   "id": "c9f6de57",
   "metadata": {},
   "outputs": [],
   "source": [
    "page = 1\n",
    "news_gathered = []\n",
    "while(True):\n",
    "    output = collect_links(page)\n",
    "    stop = output[1]\n",
    "    news_links = output[0]\n",
    "    \n",
    "    news_gathered = gather_news(news_links)\n",
    "    \n",
    "    if(stop):\n",
    "        break\n",
    "    else:\n",
    "        page += 1\n",
    "\n",
    "# update_last_run_date(datetime.now())"
   ]
  },
  {
   "cell_type": "code",
   "execution_count": 26,
   "id": "b7fbbdda",
   "metadata": {},
   "outputs": [
    {
     "data": {
      "text/plain": [
       "9"
      ]
     },
     "execution_count": 26,
     "metadata": {},
     "output_type": "execute_result"
    }
   ],
   "source": [
    "len(news_gathered)"
   ]
  },
  {
   "cell_type": "code",
   "execution_count": 27,
   "id": "01861dee",
   "metadata": {},
   "outputs": [
    {
     "data": {
      "text/plain": [
       "[{'title': 'Extramarks Becomes the Official Learning Partner of Arsenal',\n",
       "  'link': 'https://www.india.com/sports/extramarks-becomes-the-official-learning-partner-of-arsenal-5227209/',\n",
       "  'image_link': 'https://static.india.com/wp-content/uploads/2022/02/pjimage-2022-02-07T133949.143.jpg',\n",
       "  'summary': 'New Delhi: Extramarks, a leading global provider of new-age digital learning solutions, today announced a strategic partnership with Arsenal Football Club to become its exclusive Official Learning Partner in India, South Africa, Indonesia, and the Middle East.The landmark agreement will enable Extramarks to combine football and education to drive awareness of its offerings, attract new-age learners and promote access to ‘Complete Learning Solutions’ for their holistic learning and development. As part of the multi-year collaboration, Extramarks will introduce grassroots-level learning programs, football workshops, meet and greets with the players, and other exclusive competitions and experiences in partnership with Arsenal to bolster engagement with its flagship schools and learners. Extramarks will also have access to a wide array of digital, social, and logistical assets, including Arsenal imagery, club-certified coaches, and access to the club’s London Colney Training Centre to support learning opportunities at all levels.Commenting on the partnership, Ritvik Kulshrestha, Chief Executive Officer, Extramarks Education, said,” Arsenal is among the best-supported football teams globally and is known for its elegant style of play. Over the years, the club has built a strong resonance and support with young people in India.These factors make it a terrific format to expand our audience exponentially. Both Extramarks and Arsenal have a rich history, and it is a matter of pride for us to share our passion for inclusive (or holistic) learning by bringing on-field experiences into the classroom environment.”Arpit Agarwal, Vice President-Marketing, Extramarks Education, added, “Football is an attractive avenue for fast-paced brands like Extramarks to increase awareness. With a committed fan base in India, the partnership with Arsenal will drive awareness and demonstrate our offerings to a larger audience with a favorable attitude towards digital learning.This is a one-of-its-kind partnership for us, and we are excited to team up with Arsenal in the coming year and create a lot of value for our audiences.”Juliet Slot, Chief Commercial Officer, Arsenal, said, “Extramarks is doing brilliant work around the world to make learning more accessible and exciting for young people.Arsenal have millions of followers globally, and we’re delighted to team up with Extramarks to help them reach and engage a new audience with new learning opportunities. From our first-teams to our academy and right across the club, we have a passion for learning and development, and we’re excited to work with Extramarks to combine our expertise.”The association between Extramarks and Arsenal aims to make the learning experience more wholesome, both on-field and in the classrooms. In addition, Extramarks will reinforce its revamped brand identity and 360-degree learning solutions for in-school and at-home learning through various marketing, advertising, and promotional activities.Extramarks and Arsenal will also mutually explore opportunities to use their voices as a force of good to showcase how football and education together can motivate and inspire schools and learners alike.',\n",
       "  'positivity_score': 0,\n",
       "  'date': datetime.datetime(2022, 2, 7, 1, 40),\n",
       "  'genre': 'sports'},\n",
       " {'title': 'KHT vs SYL, BPL Dream11 Team Prediction BPL – T20 Match 22: Captain, Fantasy Playing Tips, Probable XIs For Today Khulna Tigers vs Sylhet Sunrisers T20 at Sylhet International Cricket Stadium 05:00 PM IST Feb 07 Mon',\n",
       "  'link': 'https://www.india.com/sports/kht-vs-syl-bpl-dream11-team-prediction-bpl-t20-match-22-captain-fantasy-playing-tips-probable-xis-for-today-khulna-tigers-vs-sylhet-sunrisers-t20-at-sylhet-international-cricket-stadium-0500-pm-5227162/',\n",
       "  'image_link': 'https://static.india.com/wp-content/uploads/2022/02/pjimage-2022-02-07T132249.084.jpg',\n",
       "  'summary': 'Khulna Tigers vs Sylhet Sunrisers Dream11 Team Prediction Bangladesh Premier League – T20 – Fantasy Playing Tips, Probable XIs, Dream11 Guru Tips, Probable XIs For Today’s KHT vs SYL at Sylhet:Here is the Bangladesh Premier League – T20 Dream11 Guru Tips and KHT vs SYL Dream11 Team Prediction, KHT vs SYL Fantasy Cricket Prediction T20 game, KHT vs SYL Probable XIs BPL – T20, Fantasy Cricket Prediction -Khulna Tigers vs Sylhet Sunrisers, Fantasy Playing Tips – T20.TOSS: The Bangladesh Premier League – T20 match toss between Khulna Tigers vs Sylhet Sunrisers will take place at 04:30 PM IST – February 07Time: 5:00 PM IST.Venue: Sylhet International Cricket Stadium, SylhetMohammad Mithun, Andre Fletcher (c), Soumya Sarkar, Mosaddek Hossain, Lendl Simmons, Mahedi Hasan, Thisara Perera (vc), Nazmul Islam, Nabil Samad, Kamrul Islam Rabbi, Khaled AhmedCaptain: Andre Fletcher\\xa0 \\xa0 \\xa0 Vice Captain: Thisara PereraKhulna Tigers: Soumya Sarkar, Andre Fletcher, Mushfiqur Rahim (c & wk), Yasir Ali, Thisara Perera, Mahedi Hasan, Jaker Ali, Seekkuge Prasanna, Khaled Ahmed, Kamrul Islam Rabbi, Nabil SamadSylhet Sunrisers: Anamul Haque (wk), Lendl Simmons, Mohammad Mithun, Colin Ingram, Nadif Chowdhury, Mosaddek Hossain (c), Sohag Gazi, Muktar Ali, Shiraz Ahmed, Jubair Hossain, Nazmul Islam',\n",
       "  'positivity_score': 0,\n",
       "  'date': datetime.datetime(2022, 2, 7, 1, 24),\n",
       "  'genre': 'sports'},\n",
       " {'title': 'Pro League Matches Will Help Indian Team Asses Itself Ahead Of Major Tournaments, Says Harmanpreet Singh',\n",
       "  'link': 'https://www.india.com/sports/pro-league-matches-will-help-indian-team-asses-itself-ahead-of-major-tournaments-says-harmanpreet-singh-5227138/',\n",
       "  'image_link': 'https://static.india.com/wp-content/uploads/2022/02/pjimage-100.jpg',\n",
       "  'summary': 'Potchefstroom: Vice-captain Harmanpreet Singh says the FIH Pro League matches against quality sides like France and South Africa will help the Indian men’s hockey team assess itself and prepare for other major tournaments later this year.India are set to take on hosts South Africa and France in the opening matches of their FIH Hockey Pro League 2021/22 campaign, starting here from Tuesday. The world No. 3 side will play two matches apiece against both teams on the tour. “We are really excited for our first assignment of 2022. We begin our season against two quality sides, so it’s a great thing. Our focus is to gain momentum, and make a positive start as we approach this year step-by-step. “These FIH Hockey Pro League matches will certainly help us prepare for the forthcoming major events,” Harmanpreet was quoted as saying by Hockey India in a press release. The Indian team has a packed 12 months ahead with several big-ticket tournaments like the Commonwealth Games and Asian Games slated to be played and Harmanpreet feels the Pro League will help the Tokyo Olympics bronze medallists iron out the chinks in their armour.“We have a busy 2022 year, with a lot of important tournaments lined up in the next 12 months, so we need to ensure that we are fully prepared. “I think the FIH Hockey Pro League 2021/22 matches will not only help us gain the experience but will also give us the understanding about where we stand with regards to our game as well as training.“You see, there’s always room for improvement, so apart from executing our skills and plans, our focus will also remain on improving our game, and that’s where I think Pro League matches will play a vital role.”India will play their first match against France on Tuesday. The last time both the teams faced each other was during the 2015 Fintro Hockey World League semifinal, with India winning the match 3-2. Speaking ahead of the game, Harmanpreet said the match will be challenging for his team.“We haven’t played against France in a long time. They are a really good side, and, no doubt, it will be a challenging match for us,” he said. “Our focus will remain on playing good hockey, executing our skills, and making the best out of the opportunities. We are looking forward to tomorrow’s match. We will definitely give our 100 per cent, and hopefully, start the campaign with a win.”The Manpreet Singh-led India will then square off against the home side South Africa on Wednesday. The last time both teams faced each other was during the Final of FIH Men’s Series Finals in 2019, which India won 5-1.The overall head-to-head record (since 2013) belongs to the visitors, with India winning all three matches against the hosts. When asked about facing the World No.10 side, the 26-year-old player said the Indian team is not underestimating the lower-ranked hosts.“South Africa are a quality team. They are currently ranked 10th in the world, and are capable of beating any team on a given day, so you just can’t underestimate them. “It will certainly be a good challenge for us, and we are really excited to face a good team like South Africa.”After a two-day break, India will play France on February 12 followed by hosts South Africa on February 13.',\n",
       "  'positivity_score': 0,\n",
       "  'date': datetime.datetime(2022, 2, 7, 1, 0),\n",
       "  'genre': 'sports'},\n",
       " {'title': 'Hardik Pandya Skips Ranji Trophy 2022 To Focus On India Comeback',\n",
       "  'link': 'https://www.india.com/sports/hardik-pandya-skips-ranji-trophy-2022-to-focus-on-india-comeback-5227091/',\n",
       "  'image_link': 'https://static.india.com/wp-content/uploads/2022/02/pjimage-99-1.jpg',\n",
       "  'summary': 'New Delhi: All-rounder Hardik Pandya will skip the Ranji Trophy starting on February 10 to focus on his India comeback in white-ball cricket.Kedar Devdhar was named skipper of the Baroda team on Monday. Vishnu Solanki was named Devdhar’s deputy as the Baroda Cricket Association announced a 20-member squad ahead of the first phase of the tournament. However, Hardik’s name is missing from the squad list. Hardik has remained on the sidelines ever since the T20 World Cup last year, making himself unavailable for national selection due to back injury and further rehabilitation. The 28-year-old, who received a lot of flak for not bowling during India’s dismal T20 World Cup campaign, hasn’t played red ball cricket since December 2018 and has often admitted that injuries have put a spanner on his prospects in the longest format of the game.It is expected that Hardik will return to competitive cricket in the Indian Premier League, where he is set to make his maiden appearance as a full-time captain with the CVC-owned Ahmedabad franchise.In interview to PTI last week, BCCI President Saurav Ganguly had said he expected to see the all-rounder play in the Ranji Trophy.Hardik was injured and a break was given to him to completely recover, so that he can continue to serve Indian cricket for a long period of time. I believe I will see him play some Ranji Trophy to start with. I expect him to bowl a lot more overs and his body will get stronger, Ganguly said.Hardik’s brother, Krunal Pandya has also been included in the squad. The tournament, which was not held last year due to the COVID-19 pandemic, was scheduled to begin on January 13 but was postponed owing to a third wave of infections across the country.It will now be held in two phases, with the first phase beginning on Thursday till March 15 across various venues in the country. The premier domestic event then takes a break during the IPL and resumes from May 30 to June 26.Baroda Squad: Kedar Dhevdhar, Vishnu Solanki, Pratyush Kumar, Shivalik Sharma, Krunal Pandya, Abhimanyusingh Rajput, Dhruv Patel, Mitesh Patel, Lukman Meriwala, Babasafikhan Pathan (wk), Atit Sheth, Bhargav Bhatt, Parth Kohli, Shashwat Rawat, Soyeb Sopariya, Kartik Kakade, Gurjindersingh Mann, Jyotsnil Singh, Ninad Rathwa, Akshay More.',\n",
       "  'positivity_score': 0,\n",
       "  'date': datetime.datetime(2022, 2, 7, 12, 44),\n",
       "  'genre': 'sports'},\n",
       " {'title': 'We Are Over the Moon, Victory was Tribute to Team Bonding: Shaik Rasheed on U-19 World Cup Win',\n",
       "  'link': 'https://www.india.com/sports/we-are-over-the-moon-victory-was-tribute-to-team-bonding-shaik-rasheed-on-u-19-world-cup-win-5227019/',\n",
       "  'image_link': 'https://static.india.com/wp-content/uploads/2022/02/Rasheed-U19-World-Cup-2022.jpg',\n",
       "  'summary': 'Antigua: Shaik Rasheed, who was India’s crisis man during the 2022 Under-19 World Cup, has said that his teammates are over the moon after winning the title and the victory was a tribute to the bonding among the players and the coaches.The batter showed solid temperament and played vital innings for the Indian team in all three knockout games in the World Cup. “We have just won the Under-19 World Cup and we are over the moon. The victory was a tribute to the bonding among the players and the coaches who ensured we stayed here (in the Caribbean) like a family. My future… I will take it the way it comes. I need to improve my game and I will work on it,” Rasheed told Cricbuzz. Rasheed hit a 26 in a low-scoring but high-intensity chase in the quarter-final against Bangladesh and anchored the innings with a well-paced 94 in the semi-final against Australia and then set the match up with a solid 50 in the final against England. All three knocks came after the early loss of wickets.Asked to explain those innings in the knockouts, the Andhra boy said he tried to play his natural game.“Initially there was pressure but I tried to play my natural game. I am confident of my game and I played that way. Although there was not much practice before the knockouts (because of the Covid-induced isolation), we were confident. I had scored an unbeaten 72 in a practice game against Australia and that gave me a lot of confidence,” he said.Rasheed also recalled the tough time when he tested positive for Covid-19 during the tournament. He thanked the support staff for motivating the players during that tough phase.“I never thought I had another chance in the tournament. I had given up hope of playing any more part in the tournament. Regular testing and 15-day quarantine and I thought the tournament has ended for me,” the batter said while recalling the time when the Indian camp was hit by Covid-19 with half a dozen players, including himself, being forced into isolation.“At that stage, the support staff backed us well, kept us motivated. We were in isolation and they would do regular video-calling and try to explain to us to treat this as a brief injury pause and not as a Covid disruption. Coaches and VVS Laxman Sir would be on the call and they would tell me there is a lot more to play in the tournament – quarterfinals, semi-finals, final, and all those games. They tried to instil a positive mindset,” he added.Since the four-wicket win in the final, the youngster has got lots of calls and messages. “We have had a party. We celebrated the win, stayed together. The bonding is very good. And, yes I have not had time to answer all my calls and messages. I will respond to them all soon,” he said.Many of Rasheed’s teammates have registered for the IPL auction but he would not be one to go under the hammer as he has not played a List A or a first-class game, which is a necessity to be eligible to feature in the IPL. However, he is not disappointed.“Not exactly. I will get my opportunities. If I have not played this year it does not mean it is the end of the world. I will qualify eventually,” he signed off.',\n",
       "  'positivity_score': 0,\n",
       "  'date': datetime.datetime(2022, 2, 7, 11, 57),\n",
       "  'genre': 'sports'},\n",
       " {'title': 'Honesty, Respect, Trust, Truth, Performance: Adam Gilchrist Lauds Justin Langer’s Resignation Letter, Says No Need to Apologise',\n",
       "  'link': 'https://www.india.com/sports/honesty-respect-trust-truth-performance-adam-gilchrist-lauds-justin-langers-resignation-letter-says-no-need-to-apologise-5226806/',\n",
       "  'image_link': 'https://static.india.com/wp-content/uploads/2022/02/Langer-Gilchrist-Cricket-Australia.jpg',\n",
       "  'summary': 'New Delhi: Former Australia wicket-keeper Adam Gilchrist lashed out at Cricket Australia and some of the players in the team for the treatment meted out to Justin Langer, who had resigned from his role as the head coach of Australia after the cricket board decided not to give him a long-term contract.“He’s been painted by some particular people as a monster, that is not Justin Langer,” said Gilchrist. “He’ll be the first to admit he has his frailties, he has his areas of weakness, but gee, he’ll sit and look you in the eye and work it out with you,” Gilchrist told sen.com.au. Lauding his resignation letter, Gilchrist said that it summed up the person Langer was although he reckoned that there was no need to apologise for who he was and how he has led his life. “So, to be painted as a monster, what sort of effect would that have on you personally and what’s the flow-on effect to your family and the people that are nearest and dearest to you, particularly through a period of time when you’re not nearly understanding what is going on, the consistent innuendo and rumour. I think he stated it perfectly in his resignation letter, honesty, respect, trust, truth, performance,” added Gilchrist.“And then, unfortunately, he felt a compelling need to say if that’s been the trouble I apologise, they’re the foundations he bases his life on. I totally agree with him, (but) I, unfortunately, disagree with him that he felt a need to apologise because that shouldn’t be a situation,” he further said.Gilchrist who was also a teammate of Langer said that the personal capital and the human capital that they (CA and players) are prepared to churn and burn is extraordinary and referred to some of them as greedy.“They could have offered him (Langer) a five-year deal, but I think through the last few days Justin realised that a lot of those key fundamentals and values that he has always and consistently based his life on, there was very little of that coming from either within the group or from Cricket Australia, and that’s where again where I think my focus goes to now,” Gilchrist continued.“It’s done, the players know they have to manage that going forward now with whoever fills that role permanently, and they may well sit back in a year’s time and say, ‘Look, we did it, we got the results’, but the cost on a human being and a family and the method with which everyone has gone about this, nonetheless Cricket Australia and the board, it just stuns me. The personal capital and the human capital that they (CA and players) are prepared to churn and burn is extraordinary,” he said.“I think it’s quite reckless and some of the decision-making over a long period of time in there has been fuelled by greed, it really leaves me staggered,” added Gilchrist.',\n",
       "  'positivity_score': 0,\n",
       "  'date': datetime.datetime(2022, 2, 7, 10, 7),\n",
       "  'genre': 'sports'},\n",
       " {'title': 'Will Go Back And Put Our Plans In: Alzarri Joseph Hopeful of West Indies Comeback vs India | IND vs WI',\n",
       "  'link': 'https://www.india.com/sports/will-go-back-and-put-our-plans-in-alzarri-joseph-hopeful-of-west-indies-comeback-vs-india-ind-vs-wi-5226768/',\n",
       "  'image_link': 'https://static.india.com/wp-content/uploads/2022/02/Alzarri-Joseph-WI-vs-IND-1st-ODI.jpg',\n",
       "  'summary': 'New Delhi: West Indies fast bowler Alzarri Joseph reckons that a score of 240-250 would have been a more challenging total to defend for his side but with two games left, they will go back to the drawing board and put their plan back in.“I just think we needed to score a bit more. I think maybe 240-250 would have been a more challenging total on that wicket. So, it’s our first game out and we have two more games left in the series. We will go back to the drawing board and put our plans in,” said Joseph in the virtual press conference. With two days left for the second ODI, Joseph is hopeful that his side will turn things around in the three-match ODI series. “We have two days left to see back at our plans. We will go through our post-match meetings. I think we just need to assess a bit better and spend more time at the crease. As you see, Fabian, Jason gave us a really good partnership and partnerships will get us a good total,” added Joseph.“It was pretty difficult. There was a pretty slow wicket and spin-friendly. So, there wasn’t really much in there for me. But I just tried to put in my efforts and put the best foot forward for my team. We have specific plans for specific batters and were just bowling towards the plans,” he further said.Talking about his own goal, the West Indies fast bowler said, “For me, my goals are just improving as a cricketer every time I go out on the field. Year after year, month after month, week after week, I try to improve myself and be better than what I was yesterday.”',\n",
       "  'positivity_score': 0,\n",
       "  'date': datetime.datetime(2022, 2, 7, 9, 42),\n",
       "  'genre': 'sports'},\n",
       " {'title': 'Virat Kohli Resolves DRS Conundrum For Rohit-Sharma-Led India That Sent Shamarh Brooks Packing | Watch Viral Video',\n",
       "  'link': 'https://www.india.com/sports/virat-kohli-resolves-drs-conundrum-for-rohit-sharma-led-india-that-sent-shamarh-brooks-packing-watch-virat-video-5226719/',\n",
       "  'image_link': 'https://static.india.com/wp-content/uploads/2022/02/Kohli-Suggest-Rohit-1st-ODI-DRS-Brooks.jpg',\n",
       "  'summary': 'New Delhi: With a lot of questions being raised on how Virat Kohli and Rohit Sharma relationship will pan out, the answer is out for everyone to see. There is still a lot of mutual respect and trust in each other’s game, and even though Kohli has resigned from captaincy, he still has a leadership role in the team, as suggested by Rohit in the past.The incident yesterday just vindicated that point made by Rohit after taking over the white-ball captaincy. Chahal was in the middle of a very good spell and during his second over, he got one to spin off the track and get the edge of West Indies batter Shamarh Brooks. Rohit was standing close in first slip was not sure and asked Rishabh Pant, who possibly had the best view or feel of the incident. While Pant can be seen in the video, insisting Rohit not to take the DRS, Kohli came running in and had a different point of view of the whole incident. kohliiiiiiiiiiiiii pic.twitter.com/tr7j92R41A— Aarav (@singlaaarav) February 6, 2022“Rohit, the ball hit the bat and the bat hit the pad. 100 per cent I heard the sound. I felt this was out,” Kohli was heard saying.ICYMI – @ImRo45 : Kya hai? Out hai?@imVkohli : Mere hisaab se out hai.🔊 🔊 🔛, Mic 🔼 & a successful DRSDO NOT MISS: Stump mic gem – Virat and co. persuade Rohit to take DRS 🎥 🔽📹📹https://t.co/14XDnYuMrq @Paytm #INDvWI pic.twitter.com/tb4NYSx7qn— BCCI (@BCCI) February 6, 2022The India captain went with Kohli’s suggestion and took the DRS. The replays suggested that the ball did indeed brush the bat before going to the keeper, forcing the on-field decision to be reversed. Brooks had to take the long walk back and Chahal picked up his third wicket, having just bowled a couple of overs in the match till then.India went on to win the first ODI vs West Indies by 4 wickets with the second one scheduled to be played on the 9th February 2022.',\n",
       "  'positivity_score': 0,\n",
       "  'date': datetime.datetime(2022, 2, 7, 9, 22),\n",
       "  'genre': 'sports'},\n",
       " {'title': 'Spoke to Rohit Bhai, Virat Bhai…: Yuzvendra Chahal Spills the Beans On His Match-Winning Performance | IND vs WI',\n",
       "  'link': 'https://www.india.com/sports/spoke-to-rohit-bhai-virat-bhai-yuzvendra-chahal-spills-the-beans-on-his-match-winning-performance-ind-vs-wi-5226688/',\n",
       "  'image_link': 'https://static.india.com/wp-content/uploads/2021/10/pjimage-2021-10-10T133236.432.jpg',\n",
       "  'summary': 'New Delhi: India leg-spinner Yuzvendra Chahal was the pick of the bowlers for India, returning with figures of 4 for 49 that helped India restrict West Indies to a paltry score in the first of the three ODIs of the series that the hosts won by 6 wickets to take a 1-0 lead.Talking about his match-winning effort, Chahal said that he reflected on his performance from the tour of South Africa, spoke to white-ball captain Rohit Sharma and boYuzvendra Chahalwling coach Paras Mhambrey and worked on things that he thought was missing. “When I came back from South Africa, I watched each of my games three or four times to see where I was missing. I spoke to Rohit bhaiyya also after coming back and with Paras Mhambrey sir, our bowling coach. I worked on where I felt I was missing there,” said Chahal in the post-match presentation. “Washy created the pressure with his two wickets. When I saw his spell, I knew that the ball is turning on this pitch so I can flight the ball a bit. On these kinds of pitches, even if you flight the ball, it’s not that easy to hit down the ground. I spoke to Rohit bhai, Virat bhaiyya, and realised that pace is important on this wicket,” he said.“My usual slower pace won’t work, because the quicker balls were spinning. I changed my line also, made it more middle and off. I bowl according to the pitch. I knew that here, the batters will find it easy to hit if I slowed it up. So I continued bowling quicker. You can bowl the odd slower one for variation,” he added.',\n",
       "  'positivity_score': 0,\n",
       "  'date': datetime.datetime(2022, 2, 7, 8, 48),\n",
       "  'genre': 'sports'}]"
      ]
     },
     "execution_count": 27,
     "metadata": {},
     "output_type": "execute_result"
    }
   ],
   "source": [
    "news_gathered"
   ]
  },
  {
   "cell_type": "code",
   "execution_count": null,
   "id": "8ed1a377",
   "metadata": {},
   "outputs": [],
   "source": []
  }
 ],
 "metadata": {
  "kernelspec": {
   "display_name": "Python 3 (ipykernel)",
   "language": "python",
   "name": "python3"
  },
  "language_info": {
   "codemirror_mode": {
    "name": "ipython",
    "version": 3
   },
   "file_extension": ".py",
   "mimetype": "text/x-python",
   "name": "python",
   "nbconvert_exporter": "python",
   "pygments_lexer": "ipython3",
   "version": "3.10.2"
  }
 },
 "nbformat": 4,
 "nbformat_minor": 5
}
