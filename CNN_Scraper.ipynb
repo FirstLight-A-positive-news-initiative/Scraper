{
 "cells": [
  {
   "cell_type": "code",
   "execution_count": 45,
   "id": "bbae7de5",
   "metadata": {},
   "outputs": [],
   "source": [
    "from bs4 import BeautifulSoup\n",
    "import urllib.request, urllib.error, urllib.parse\n",
    "import pandas as pd\n",
    "from selenium import webdriver"
   ]
  },
  {
   "cell_type": "code",
   "execution_count": 46,
   "id": "f9de5075",
   "metadata": {},
   "outputs": [],
   "source": [
    "cnn_url = 'https://edition.cnn.com'\n",
    "world_url = 'https://edition.cnn.com/world'\n",
    "politics_url = 'https://edition.cnn.com/politics'\n",
    "health_url = 'https://edition.cnn.com/health'\n",
    "entertainment_url = 'https://edition.cnn.com/entertainment'"
   ]
  },
  {
   "cell_type": "code",
   "execution_count": 47,
   "id": "2de5cfa5",
   "metadata": {},
   "outputs": [],
   "source": [
    "def getParseUrl(link):\n",
    "    driver = getDriver()\n",
    "    driver.get(link)\n",
    "    webContent = driver.page_source\n",
    "    \n",
    "    data = BeautifulSoup(webContent, 'html.parser')\n",
    "    driver.close()\n",
    "    return data"
   ]
  },
  {
   "cell_type": "code",
   "execution_count": 62,
   "id": "1539db35",
   "metadata": {},
   "outputs": [],
   "source": [
    "def getParseUrlStatic(link):\n",
    "    response = urllib.request.urlopen(link)\n",
    "    webContent = response.read()\n",
    "    \n",
    "    data = BeautifulSoup(webContent, 'html.parser')\n",
    "    return data"
   ]
  },
  {
   "cell_type": "code",
   "execution_count": 63,
   "id": "9cfeb758",
   "metadata": {},
   "outputs": [],
   "source": [
    "def getNewsLinks(data):\n",
    "    headlines = data.find_all(class_ = \"cd__headline\")\n",
    "    links = []\n",
    "    for headline in headlines:\n",
    "        link = headline.a[\"href\"]\n",
    "        if link[:5] != 'https':\n",
    "            link = cnn_url + link\n",
    "        links.append(link)\n",
    "    return links"
   ]
  },
  {
   "cell_type": "code",
   "execution_count": 64,
   "id": "40f8c98f",
   "metadata": {},
   "outputs": [],
   "source": [
    "def getDriver():\n",
    "    driver = webdriver.Chrome(executable_path=r'C:\\Users\\DELL\\Downloads\\chromedriver_win32\\chromedriver')\n",
    "    return driver"
   ]
  },
  {
   "cell_type": "code",
   "execution_count": 77,
   "id": "d7a46a10",
   "metadata": {},
   "outputs": [],
   "source": [
    "def getStringFromTags(tag):\n",
    "    data = tag.contents\n",
    "    string = \"\"\n",
    "    for content in data:\n",
    "        try:\n",
    "            string += content\n",
    "        except:\n",
    "            string += getStringFromTags(content)\n",
    "    return string"
   ]
  },
  {
   "cell_type": "code",
   "execution_count": 69,
   "id": "092bf9e1",
   "metadata": {},
   "outputs": [],
   "source": [
    "def getNewsFromLink(link, genre):\n",
    "    data = getParseUrlStatic(link)\n",
    "    news = {}\n",
    "    news['heading'] = data.h1.contents[0]\n",
    "    news['content'] = \"\"\n",
    "    divs = data.find_all(True, {'class': [\"zn-body__paragraph\", \"Paragraph__component BasicArticle__paragraph BasicArticle__pad\", \"Paragraph__component\"]})\n",
    "    for div in divs:\n",
    "        news['content'] += getStringFromTags(div)\n",
    "    news['link'] = link\n",
    "    news['genre'] = genre\n",
    "    return news"
   ]
  },
  {
   "cell_type": "code",
   "execution_count": 70,
   "id": "98a4aea4",
   "metadata": {},
   "outputs": [],
   "source": [
    "def getDataFromUrl(url, genre):\n",
    "    data = getParseUrl(url)\n",
    "    links = getNewsLinks(data)\n",
    "    news = [getNewsFromLink(link, genre) for link in links if link[:23] == 'https://edition.cnn.com']\n",
    "    return news"
   ]
  },
  {
   "cell_type": "code",
   "execution_count": 71,
   "id": "1a976288",
   "metadata": {},
   "outputs": [
    {
     "name": "stdout",
     "output_type": "stream",
     "text": [
      "world\n",
      "politics\n",
      "entertainment\n"
     ]
    }
   ],
   "source": [
    "news = []\n",
    "for genre in ['world', 'politics', 'entertainment']:\n",
    "    url = cnn_url + '/' + genre\n",
    "    print(genre)\n",
    "    cur_news = getDataFromUrl(url, genre)\n",
    "    for new in cur_news:\n",
    "        news.append(new)"
   ]
  },
  {
   "cell_type": "code",
   "execution_count": 72,
   "id": "4ebda446",
   "metadata": {},
   "outputs": [
    {
     "data": {
      "text/plain": [
       "168"
      ]
     },
     "execution_count": 72,
     "metadata": {},
     "output_type": "execute_result"
    }
   ],
   "source": [
    "len(news)"
   ]
  },
  {
   "cell_type": "code",
   "execution_count": 75,
   "id": "6af74436",
   "metadata": {},
   "outputs": [
    {
     "data": {
      "text/html": [
       "<div>\n",
       "<style scoped>\n",
       "    .dataframe tbody tr th:only-of-type {\n",
       "        vertical-align: middle;\n",
       "    }\n",
       "\n",
       "    .dataframe tbody tr th {\n",
       "        vertical-align: top;\n",
       "    }\n",
       "\n",
       "    .dataframe thead th {\n",
       "        text-align: right;\n",
       "    }\n",
       "</style>\n",
       "<table border=\"1\" class=\"dataframe\">\n",
       "  <thead>\n",
       "    <tr style=\"text-align: right;\">\n",
       "      <th></th>\n",
       "      <th>heading</th>\n",
       "      <th>content</th>\n",
       "      <th>link</th>\n",
       "      <th>genre</th>\n",
       "    </tr>\n",
       "  </thead>\n",
       "  <tbody>\n",
       "    <tr>\n",
       "      <th>0</th>\n",
       "      <td>New Lebanon PM seeks 'quick fixes' to help his...</td>\n",
       "      <td>(CNN)New Prime Minister Najib Mikati urged Le...</td>\n",
       "      <td>https://edition.cnn.com/2021/09/17/middleeast/...</td>\n",
       "      <td>world</td>\n",
       "    </tr>\n",
       "    <tr>\n",
       "      <th>1</th>\n",
       "      <td>What are nuclear-powered submarines and how do...</td>\n",
       "      <td>Hong Kong  (CNN)With Australia making a deal w...</td>\n",
       "      <td>https://edition.cnn.com/2021/09/17/australia/n...</td>\n",
       "      <td>world</td>\n",
       "    </tr>\n",
       "    <tr>\n",
       "      <th>2</th>\n",
       "      <td>Canada's cliffhanger election is heating up. S...</td>\n",
       "      <td>Carp, Ontario (CNN)The sky was blue, the famil...</td>\n",
       "      <td>https://edition.cnn.com/2021/09/17/americas/ca...</td>\n",
       "      <td>world</td>\n",
       "    </tr>\n",
       "    <tr>\n",
       "      <th>3</th>\n",
       "      <td>Video of child taken to quarantine alone gains...</td>\n",
       "      <td></td>\n",
       "      <td>https://edition.cnn.com/videos/world/2021/09/1...</td>\n",
       "      <td>world</td>\n",
       "    </tr>\n",
       "    <tr>\n",
       "      <th>4</th>\n",
       "      <td>How Europe's hospitals are faring in the face ...</td>\n",
       "      <td>London (CNN)Much of Europe has opened up to in...</td>\n",
       "      <td>https://edition.cnn.com/2021/09/18/europe/euro...</td>\n",
       "      <td>world</td>\n",
       "    </tr>\n",
       "    <tr>\n",
       "      <th>...</th>\n",
       "      <td>...</td>\n",
       "      <td>...</td>\n",
       "      <td>...</td>\n",
       "      <td>...</td>\n",
       "    </tr>\n",
       "    <tr>\n",
       "      <th>163</th>\n",
       "      <td>'Impeachment: American Crime Story' dissects t...</td>\n",
       "      <td>(CNN)The \"American Crime Story\" banner launch...</td>\n",
       "      <td>https://edition.cnn.com/2021/08/31/entertainme...</td>\n",
       "      <td>entertainment</td>\n",
       "    </tr>\n",
       "    <tr>\n",
       "      <th>164</th>\n",
       "      <td>See what's streaming in September</td>\n",
       "      <td>A look at some of the series and films streami...</td>\n",
       "      <td>https://edition.cnn.com/2021/08/31/entertainme...</td>\n",
       "      <td>entertainment</td>\n",
       "    </tr>\n",
       "    <tr>\n",
       "      <th>165</th>\n",
       "      <td>'Bob Ross' paints a complex portrait of the ar...</td>\n",
       "      <td>(CNN)Add the late PBS painter Bob Ross to the...</td>\n",
       "      <td>https://edition.cnn.com/2021/08/25/entertainme...</td>\n",
       "      <td>entertainment</td>\n",
       "    </tr>\n",
       "    <tr>\n",
       "      <th>166</th>\n",
       "      <td>When some of your favorite shows are returning...</td>\n",
       "      <td>(CNN)The fall TV season is almost here, so wh...</td>\n",
       "      <td>https://edition.cnn.com/2021/09/01/entertainme...</td>\n",
       "      <td>entertainment</td>\n",
       "    </tr>\n",
       "    <tr>\n",
       "      <th>167</th>\n",
       "      <td>From 'Reservation Dogs' to 'Rutherford Falls,'...</td>\n",
       "      <td>(CNN)When the character Bear is visited by th...</td>\n",
       "      <td>https://edition.cnn.com/2021/08/18/entertainme...</td>\n",
       "      <td>entertainment</td>\n",
       "    </tr>\n",
       "  </tbody>\n",
       "</table>\n",
       "<p>168 rows × 4 columns</p>\n",
       "</div>"
      ],
      "text/plain": [
       "                                               heading  \\\n",
       "0    New Lebanon PM seeks 'quick fixes' to help his...   \n",
       "1    What are nuclear-powered submarines and how do...   \n",
       "2    Canada's cliffhanger election is heating up. S...   \n",
       "3    Video of child taken to quarantine alone gains...   \n",
       "4    How Europe's hospitals are faring in the face ...   \n",
       "..                                                 ...   \n",
       "163  'Impeachment: American Crime Story' dissects t...   \n",
       "164                  See what's streaming in September   \n",
       "165  'Bob Ross' paints a complex portrait of the ar...   \n",
       "166  When some of your favorite shows are returning...   \n",
       "167  From 'Reservation Dogs' to 'Rutherford Falls,'...   \n",
       "\n",
       "                                               content  \\\n",
       "0     (CNN)New Prime Minister Najib Mikati urged Le...   \n",
       "1    Hong Kong  (CNN)With Australia making a deal w...   \n",
       "2    Carp, Ontario (CNN)The sky was blue, the famil...   \n",
       "3                                                        \n",
       "4    London (CNN)Much of Europe has opened up to in...   \n",
       "..                                                 ...   \n",
       "163   (CNN)The \"American Crime Story\" banner launch...   \n",
       "164  A look at some of the series and films streami...   \n",
       "165   (CNN)Add the late PBS painter Bob Ross to the...   \n",
       "166   (CNN)The fall TV season is almost here, so wh...   \n",
       "167   (CNN)When the character Bear is visited by th...   \n",
       "\n",
       "                                                  link          genre  \n",
       "0    https://edition.cnn.com/2021/09/17/middleeast/...          world  \n",
       "1    https://edition.cnn.com/2021/09/17/australia/n...          world  \n",
       "2    https://edition.cnn.com/2021/09/17/americas/ca...          world  \n",
       "3    https://edition.cnn.com/videos/world/2021/09/1...          world  \n",
       "4    https://edition.cnn.com/2021/09/18/europe/euro...          world  \n",
       "..                                                 ...            ...  \n",
       "163  https://edition.cnn.com/2021/08/31/entertainme...  entertainment  \n",
       "164  https://edition.cnn.com/2021/08/31/entertainme...  entertainment  \n",
       "165  https://edition.cnn.com/2021/08/25/entertainme...  entertainment  \n",
       "166  https://edition.cnn.com/2021/09/01/entertainme...  entertainment  \n",
       "167  https://edition.cnn.com/2021/08/18/entertainme...  entertainment  \n",
       "\n",
       "[168 rows x 4 columns]"
      ]
     },
     "execution_count": 75,
     "metadata": {},
     "output_type": "execute_result"
    }
   ],
   "source": [
    "pd.DataFrame(news)"
   ]
  },
  {
   "cell_type": "code",
   "execution_count": null,
   "id": "347c8f76",
   "metadata": {},
   "outputs": [],
   "source": []
  }
 ],
 "metadata": {
  "kernelspec": {
   "display_name": "Python 3 (ipykernel)",
   "language": "python",
   "name": "python3"
  },
  "language_info": {
   "codemirror_mode": {
    "name": "ipython",
    "version": 3
   },
   "file_extension": ".py",
   "mimetype": "text/x-python",
   "name": "python",
   "nbconvert_exporter": "python",
   "pygments_lexer": "ipython3",
   "version": "3.8.5"
  }
 },
 "nbformat": 4,
 "nbformat_minor": 5
}
